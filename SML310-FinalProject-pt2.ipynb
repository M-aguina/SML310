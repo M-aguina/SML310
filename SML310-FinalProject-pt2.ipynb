{
 "cells": [
  {
   "cell_type": "code",
   "execution_count": 21,
   "metadata": {},
   "outputs": [
    {
     "name": "stdout",
     "output_type": "stream",
     "text": [
      "/Users/maguina/Downloads\n",
      "Index(['Artist', 'number_of_songs', 'total_times_in_top200', 'total_streams',\n",
      "       'race'],\n",
      "      dtype='object')\n",
      "                Artist  number_of_songs  total_times_in_top200  total_streams  \\\n",
      "0               *NSYNC              1.0                    3.0      5690510.0   \n",
      "1             2 Chainz             14.0                  132.0    275432430.0   \n",
      "2            21 Savage             39.0                  323.0    914888503.0   \n",
      "3            22 Savage              1.0                    2.0      4982496.0   \n",
      "4  5 Seconds of Summer              5.0                   79.0    236805582.0   \n",
      "\n",
      "    race  \n",
      "0  white  \n",
      "1    POC  \n",
      "2    POC  \n",
      "3    POC  \n",
      "4  white  \n"
     ]
    }
   ],
   "source": [
    "import numpy as np\n",
    "import matplotlib.pyplot as plt\n",
    "from sklearn.datasets import load_digits\n",
    "from sklearn.model_selection import train_test_split\n",
    "import pandas as pd\n",
    "\n",
    "!pwd\n",
    "df = pd.read_csv(r\"/Users/maguina/Downloads/SML310/SML310-FinalProjectInfo/top200df.csv\")\n",
    "print(df.columns)\n",
    "print(df.head())"
   ]
  },
  {
   "cell_type": "code",
   "execution_count": 22,
   "metadata": {},
   "outputs": [],
   "source": [
    "## Making a DF\n",
    "\n",
    "df = pd.DataFrame(df)\n",
    "df.dropna(inplace=True)\n",
    "\n",
    "## Adding mixed to POC\n",
    "df['race'].replace({\"Mixed\": \"POC\"}, inplace = True)"
   ]
  },
  {
   "cell_type": "code",
   "execution_count": 23,
   "metadata": {
    "scrolled": true
   },
   "outputs": [
    {
     "name": "stdout",
     "output_type": "stream",
     "text": [
      "(474, 3)\n",
      "(119, 3)\n",
      "(474,)\n",
      "(119,)\n"
     ]
    }
   ],
   "source": [
    "## predicting race with total streams\n",
    "\n",
    "## Test/train/split\n",
    "X = df[df.columns.tolist()[1:-1]]\n",
    "y = df['race']\n",
    "\n",
    "X_train, X_test, y_train, y_test = train_test_split(X, y, random_state=0, test_size = 0.2)\n",
    "\n",
    "# Checking split\n",
    "print(X_train.shape)\n",
    "print(X_test.shape)\n",
    "print(y_train.shape)\n",
    "print(y_test.shape)\n"
   ]
  },
  {
   "cell_type": "code",
   "execution_count": 24,
   "metadata": {},
   "outputs": [
    {
     "name": "stdout",
     "output_type": "stream",
     "text": [
      "       number_of_songs  total_times_in_top200  total_streams\n",
      "count       474.000000             474.000000   4.740000e+02\n",
      "mean          4.424051              42.913502   1.163049e+08\n",
      "std           7.819551              86.041087   2.726709e+08\n",
      "min           1.000000               1.000000   1.029544e+06\n",
      "25%           1.000000               4.000000   6.255482e+06\n",
      "50%           1.000000              11.000000   2.442289e+07\n",
      "75%           4.000000              41.000000   1.040332e+08\n",
      "max          83.000000             922.000000   3.441947e+09\n"
     ]
    }
   ],
   "source": [
    "## Performing an exploratory data analysis \n",
    "\n",
    "## Making a training set one dataset:\n",
    "\n",
    "Xs_train = pd.DataFrame(X_train)\n",
    "ys_train = pd.DataFrame(y_train)\n",
    "\n",
    "training = pd.concat([Xs_train,ys_train], axis = 1)\n",
    "\n",
    "print(training.describe())"
   ]
  },
  {
   "cell_type": "code",
   "execution_count": 25,
   "metadata": {},
   "outputs": [
    {
     "name": "stdout",
     "output_type": "stream",
     "text": [
      "                       number_of_songs  total_times_in_top200  total_streams\n",
      "number_of_songs               1.000000               0.798017       0.766478\n",
      "total_times_in_top200         0.798017               1.000000       0.979760\n",
      "total_streams                 0.766478               0.979760       1.000000\n"
     ]
    },
    {
     "data": {
      "image/png": "[encoded data removed]",
      "text/plain": [
       "<Figure size 432x288 with 4 Axes>"
      ]
     },
     "metadata": {
      "needs_background": "light"
     },
     "output_type": "display_data"
    },
    {
     "name": "stdout",
     "output_type": "stream",
     "text": [
      "     number_of_songs  total_times_in_top200  total_streams   race\n",
      "224              1.0                    1.0      2454543.0  white\n",
      "431              1.0                    2.0      3017351.0    POC\n",
      "468              7.0                  141.0    230596338.0  white\n",
      "45               1.0                   10.0     31585488.0  white\n",
      "206              1.0                    1.0      1344245.0  white\n",
      "..               ...                    ...            ...    ...\n",
      "277              1.0                    9.0     22437187.0    POC\n",
      "9               11.0                  212.0    653276660.0    POC\n",
      "360              6.0                  150.0    454386939.0  white\n",
      "192              1.0                    6.0     24085184.0  white\n",
      "561              1.0                    4.0     10360962.0    POC\n",
      "\n",
      "[474 rows x 4 columns]\n"
     ]
    }
   ],
   "source": [
    "## Seeing relationships between predictors --> some are very similar!!\n",
    "\n",
    "corr = training.corr()\n",
    "print(corr)\n",
    "\n",
    "training.hist()\n",
    "plt.show()\n",
    "print(training)"
   ]
  },
  {
   "cell_type": "code",
   "execution_count": 26,
   "metadata": {},
   "outputs": [
    {
     "data": {
      "image/png": "[encoded data removed]",
      "text/plain": [
       "<Figure size 432x288 with 1 Axes>"
      ]
     },
     "metadata": {
      "needs_background": "light"
     },
     "output_type": "display_data"
    },
    {
     "name": "stdout",
     "output_type": "stream",
     "text": [
      "Decision Tree Accuracy: 0.5882352941176471\n"
     ]
    }
   ],
   "source": [
    "## Using decision tree on training set\n",
    "\n",
    "import numpy as np\n",
    "from sklearn.tree import DecisionTreeClassifier\n",
    "from sklearn import tree\n",
    "from sklearn.metrics import confusion_matrix\n",
    "\n",
    "clf = DecisionTreeClassifier(max_leaf_nodes = 3, random_state=0)\n",
    "clf.fit(X_train, y_train)\n",
    "\n",
    "tree.plot_tree(clf)\n",
    "plt.show()\n",
    "\n",
    "## Predict\n",
    "y_tree_pred = clf.predict(X_test)\n",
    "\n",
    "## Accuracy?\n",
    "print( 'Decision Tree Accuracy: {}'.format(np.sum(y_tree_pred ==y_test)/len(y_test)) )  \n"
   ]
  },
  {
   "cell_type": "code",
   "execution_count": 35,
   "metadata": {},
   "outputs": [
    {
     "name": "stdout",
     "output_type": "stream",
     "text": [
      "Random Forest Accuracy: 0.453781512605042\n"
     ]
    }
   ],
   "source": [
    "from sklearn.ensemble import RandomForestClassifier\n",
    "\n",
    "rf = RandomForestClassifier()\n",
    "\n",
    "model1 = [rf]\n",
    "name1 = ['Random Forest']\n",
    "\n",
    "from warnings import simplefilter\n",
    "from sklearn.exceptions import ConvergenceWarning\n",
    "simplefilter(\"ignore\", category=ConvergenceWarning)\n",
    "\n",
    "for model, name in zip(model1, name1):\n",
    "    model.fit(X_train, y_train)\n",
    "    pred = model.predict(X_test)\n",
    "    print(name + ' Accuracy: {}'.format(np.sum(pred==y_test)/len(y_test)) )\n",
    " "
   ]
  },
  {
   "cell_type": "markdown",
   "metadata": {},
   "source": [
    "## Now Trying same code with second dataframe "
   ]
  },
  {
   "cell_type": "code",
   "execution_count": 31,
   "metadata": {},
   "outputs": [
    {
     "name": "stdout",
     "output_type": "stream",
     "text": [
      "   sum_songs  total_streams   Followers   Combo\n",
      "0      132.0    275432430.0   4943181.0    MPOC\n",
      "1        9.0     15699807.0    162763.0  Mwhite\n",
      "2       21.0     32224508.0  17965158.0  Fwhite\n",
      "3        1.0      1569970.0    684444.0  Mwhite\n",
      "4       14.0     48612648.0    225919.0  Mwhite\n",
      "(100, 3)\n",
      "(25, 3)\n",
      "(100,)\n",
      "(25,)\n"
     ]
    }
   ],
   "source": [
    "## Making a df for second df \n",
    "df2b = pd.read_csv(r\"/Users/maguina/Downloads/SML310/SML310-FinalProjectInfo/data.soc.csv\")\n",
    "df2b = pd.DataFrame(df2b)\n",
    "df2b = df2b[df2b.columns[1:5]]\n",
    "df2b.dropna(inplace=True)\n",
    "print(df2b.head())\n",
    "\n",
    "## Adding mixed race to POC and removing gender\n",
    "df2b['Combo'].replace({\"Fmixed\": \"POC\", \"Mmixed\": \"POC\", \"FPOC\": 'POC', \"MPOC\": \"POC\", \"Fwhite\": \"white\", \"Mwhite\":\"white\"}, inplace = True)\n",
    "\n",
    "\n",
    "## predicting race with total streams\n",
    "\n",
    "## Test/traing/split\n",
    "X2b = df2b[df2b.columns.tolist()[0:-1]]\n",
    "y2b = df2b['Combo']\n",
    "\n",
    "X2b_train, X2b_test, y2b_train, y2b_test = train_test_split(X2b, y2b, random_state=0, test_size = 0.2)\n",
    "\n",
    "# Checking split\n",
    "print(X2b_train.shape)\n",
    "print(X2b_test.shape)\n",
    "print(y2b_train.shape)\n",
    "print(y2b_test.shape)"
   ]
  },
  {
   "cell_type": "code",
   "execution_count": 32,
   "metadata": {},
   "outputs": [
    {
     "name": "stdout",
     "output_type": "stream",
     "text": [
      "        sum_songs  total_streams     Followers\n",
      "count  100.000000   1.000000e+02  1.000000e+02\n",
      "mean    54.140000   1.605860e+08  6.416615e+06\n",
      "std    119.859515   4.195948e+08  8.408484e+06\n",
      "min      1.000000   1.233304e+06  1.047000e+04\n",
      "25%      6.000000   8.989563e+06  1.951338e+06\n",
      "50%     14.000000   2.830484e+07  3.579347e+06\n",
      "75%     48.250000   1.147785e+08  7.510858e+06\n",
      "max    922.000000   3.441947e+09  5.269876e+07\n",
      "               sum_songs  total_streams  Followers\n",
      "sum_songs        1.00000       0.989950   0.613900\n",
      "total_streams    0.98995       1.000000   0.584816\n",
      "Followers        0.61390       0.584816   1.000000\n"
     ]
    },
    {
     "data": {
      "image/png": "[encoded data removed]",
      "text/plain": [
       "<Figure size 432x288 with 4 Axes>"
      ]
     },
     "metadata": {
      "needs_background": "light"
     },
     "output_type": "display_data"
    },
    {
     "name": "stdout",
     "output_type": "stream",
     "text": [
      "     sum_songs  total_streams   Followers  Combo\n",
      "30         8.0   1.376272e+07   2096548.0  white\n",
      "119        4.0   5.889469e+06   1011430.0  white\n",
      "13        14.0   5.648982e+07    135670.0  white\n",
      "33       319.0   9.361553e+08  52698756.0  white\n",
      "75        19.0   3.059127e+07  13781152.0  white\n",
      "..         ...            ...         ...    ...\n",
      "67       421.0   1.539487e+09  13325462.0    POC\n",
      "64        31.0   9.050611e+07  14004245.0  white\n",
      "121        8.0   9.142679e+06   4510865.0    POC\n",
      "47       189.0   5.169621e+08   2904919.0    POC\n",
      "44         7.0   1.286626e+07     23974.0  white\n",
      "\n",
      "[100 rows x 4 columns]\n"
     ]
    },
    {
     "data": {
      "image/png": "[encoded data removed]",
      "text/plain": [
       "<Figure size 432x288 with 1 Axes>"
      ]
     },
     "metadata": {
      "needs_background": "light"
     },
     "output_type": "display_data"
    },
    {
     "name": "stdout",
     "output_type": "stream",
     "text": [
      "Decision Tree Accuracy: 0.68\n"
     ]
    }
   ],
   "source": [
    "## Performing an exploratory data analysis \n",
    "\n",
    "## Making a training set on dataset:\n",
    "\n",
    "X2bs_train = pd.DataFrame(X2b_train)\n",
    "y2bs_train = pd.DataFrame(y2b_train)\n",
    "\n",
    "training2b = pd.concat([X2bs_train,y2bs_train], axis = 1)\n",
    "\n",
    "print(training2b.describe())\n",
    "\n",
    "\n",
    "## Seeing relataionships between predictors --> some are very similar!!\n",
    "\n",
    "corr2b = training2b.corr()\n",
    "print(corr2b)\n",
    "\n",
    "training2b.hist()\n",
    "plt.show()\n",
    "print(training2b)\n",
    "\n",
    "## Using decision tree on training set\n",
    "\n",
    "clf2b = DecisionTreeClassifier(max_leaf_nodes = 3, random_state=0)\n",
    "clf2b.fit(X2b_train, y2b_train)\n",
    "\n",
    "tree.plot_tree(clf2b)\n",
    "plt.show()\n",
    "\n",
    "## Predict\n",
    "y_tree_pred2b = clf2b.predict(X2b_test)\n",
    "\n",
    "## Accuracy?\n",
    "print( 'Decision Tree Accuracy: {}'.format(np.sum(y_tree_pred2b ==y2b_test)/len(y2b_test)) )  \n",
    "\n",
    "\n"
   ]
  },
  {
   "cell_type": "code",
   "execution_count": 37,
   "metadata": {},
   "outputs": [
    {
     "name": "stdout",
     "output_type": "stream",
     "text": [
      "Random Forest Accuracy: 0.6\n"
     ]
    }
   ],
   "source": [
    "## accuracy\n",
    "\n",
    "for model, name in zip(model1, name1):\n",
    "    model.fit(X2b_train, y2b_train)\n",
    "    pred = model.predict(X2b_test)\n",
    "    print(name + ' Accuracy: {}'.format(np.sum(pred==y2b_test)/len(y2b_test)) )"
   ]
  },
  {
   "cell_type": "markdown",
   "metadata": {},
   "source": [
    "## Movies prediction into race!"
   ]
  },
  {
   "cell_type": "code",
   "execution_count": 38,
   "metadata": {},
   "outputs": [
    {
     "name": "stdout",
     "output_type": "stream",
     "text": [
      "                       movie_title  inflation_adjusted_gross  IMDb     race\n",
      "0  Snow White and the Seven Dwarfs              5.228953e+09   7.6    white\n",
      "1                        Pinocchio              2.188229e+09   7.4    white\n",
      "2                         Fantasia              2.187091e+09   7.8      NaN\n",
      "3               Lady and the Tramp              1.236036e+09   7.3  animals\n",
      "4      The Absent Minded Professor              3.100946e+08   6.8    white\n"
     ]
    }
   ],
   "source": [
    "df3 = pd.read_csv(r\"/Users/maguina/Downloads/SML310/SML310-FinalProjectInfo/new.data.add.csv\")\n",
    "df3 = df3[df3.columns[1:7]]\n",
    "del df3['release_date']\n",
    "del df3['Year']\n",
    "\n",
    "print(df3.head())"
   ]
  },
  {
   "cell_type": "code",
   "execution_count": 39,
   "metadata": {},
   "outputs": [
    {
     "name": "stdout",
     "output_type": "stream",
     "text": [
      "                       movie_title  inflation_adjusted_gross  IMDb     race\n",
      "0  Snow White and the Seven Dwarfs              5.228953e+09   7.6    white\n",
      "1                        Pinocchio              2.188229e+09   7.4    white\n",
      "3               Lady and the Tramp              1.236036e+09   7.3  animals\n",
      "4      The Absent Minded Professor              3.100946e+08   6.8    white\n",
      "5                 Babes in Toyland              1.248412e+08   6.3    white\n",
      "(135, 2)\n",
      "(34, 2)\n",
      "(135,)\n",
      "(34,)\n"
     ]
    }
   ],
   "source": [
    "## Making a df for second df\n",
    "df3 = pd.DataFrame(df3)\n",
    "df3.dropna(inplace=True)\n",
    "print(df3.head())\n",
    "\n",
    "## Adding mixed to POC\n",
    "df3['race'].replace({\"mixed\": \"POC\"}, inplace = True)\n",
    "\n",
    "## predicting race with total streams\n",
    "\n",
    "## Test/traing/split\n",
    "X3 = df3[df3.columns.tolist()[1:-1]]\n",
    "y3 = df3['race']\n",
    "\n",
    "\n",
    "X3_train, X3_test, y3_train, y3_test = train_test_split(X3, y3, random_state=0, test_size = 0.2)\n",
    "\n",
    "# Checking split\n",
    "print(X3_train.shape)\n",
    "print(X3_test.shape)\n",
    "print(y3_train.shape)\n",
    "print(y3_test.shape)\n",
    "\n"
   ]
  },
  {
   "cell_type": "code",
   "execution_count": 40,
   "metadata": {
    "scrolled": true
   },
   "outputs": [
    {
     "name": "stdout",
     "output_type": "stream",
     "text": [
      "       inflation_adjusted_gross        IMDb\n",
      "count              1.350000e+02  135.000000\n",
      "mean               2.058522e+08    6.581481\n",
      "std                5.008831e+08    0.964766\n",
      "min                0.000000e+00    4.100000\n",
      "25%                5.050912e+07    5.950000\n",
      "50%                1.040550e+08    6.700000\n",
      "75%                2.067329e+08    7.300000\n",
      "max                5.228953e+09    8.500000\n",
      "                          inflation_adjusted_gross    IMDb\n",
      "inflation_adjusted_gross                    1.0000  0.2655\n",
      "IMDb                                        0.2655  1.0000\n"
     ]
    },
    {
     "data": {
      "image/png": "[encoded data removed]",
      "text/plain": [
       "<Figure size 432x288 with 2 Axes>"
      ]
     },
     "metadata": {
      "needs_background": "light"
     },
     "output_type": "display_data"
    },
    {
     "name": "stdout",
     "output_type": "stream",
     "text": [
      "     inflation_adjusted_gross  IMDb     race\n",
      "65                111792852.0   5.8    white\n",
      "46                 80147079.0   6.9    white\n",
      "25                 32798382.0   6.3  animals\n",
      "67                258728898.0   5.7    white\n",
      "94                 55189145.0   7.2    white\n",
      "..                        ...   ...      ...\n",
      "10                 91305448.0   7.1    white\n",
      "108                  426246.0   5.1      POC\n",
      "71                  7829877.0   4.1    white\n",
      "124                64959548.0   7.8      POC\n",
      "50                 63170804.0   5.3    white\n",
      "\n",
      "[135 rows x 3 columns]\n"
     ]
    },
    {
     "data": {
      "image/png": "[encoded data removed]",
      "text/plain": [
       "<Figure size 432x288 with 1 Axes>"
      ]
     },
     "metadata": {
      "needs_background": "light"
     },
     "output_type": "display_data"
    },
    {
     "name": "stdout",
     "output_type": "stream",
     "text": [
      "Decision Tree Accuracy: 0.5\n"
     ]
    }
   ],
   "source": [
    "## Performing an exploratory data analysis \n",
    "\n",
    "## Making a trainig set one dataset:\n",
    "\n",
    "X3s_train = pd.DataFrame(X3_train)\n",
    "y3s_train = pd.DataFrame(y3_train)\n",
    "\n",
    "training3 = pd.concat([X3s_train,y3s_train], axis = 1)\n",
    "\n",
    "print(training3.describe())\n",
    "\n",
    "\n",
    "## Seeing relataionships between predictors --> some are very similar!!\n",
    "\n",
    "corr3 = training3.corr()\n",
    "print(corr3)\n",
    "\n",
    "training3.hist()\n",
    "plt.show()\n",
    "print(training3)\n",
    "\n",
    "## C) Using decision tree on training set\n",
    "\n",
    "clf3 = DecisionTreeClassifier(max_leaf_nodes = 3, random_state=0)\n",
    "clf3.fit(X3_train, y3_train)\n",
    "\n",
    "tree.plot_tree(clf3)\n",
    "plt.show()\n",
    "\n",
    "## Prediciting which are benign and which are malignant for X_test\n",
    "y_tree_pred3 = clf3.predict(X3_test)\n",
    "\n",
    "## Accuracy?\n",
    "print( 'Decision Tree Accuracy: {}'.format(np.sum(y_tree_pred3 ==y3_test)/len(y3_test)) )  \n",
    "\n"
   ]
  },
  {
   "cell_type": "code",
   "execution_count": 41,
   "metadata": {},
   "outputs": [
    {
     "name": "stdout",
     "output_type": "stream",
     "text": [
      "Random Forest Accuracy: 0.38235294117647056\n"
     ]
    }
   ],
   "source": [
    "## RF accuracy\n",
    "\n",
    "for model, name in zip(model1, name1):\n",
    "    model.fit(X3_train, y3_train)\n",
    "    pred = model.predict(X3_test)\n",
    "    print(name + ' Accuracy: {}'.format(np.sum(pred==y3_test)/len(y3_test)) )"
   ]
  },
  {
   "cell_type": "markdown",
   "metadata": {},
   "source": [
    "## Adding Rotten Tomatoes!"
   ]
  },
  {
   "cell_type": "code",
   "execution_count": 42,
   "metadata": {
    "scrolled": true
   },
   "outputs": [
    {
     "name": "stdout",
     "output_type": "stream",
     "text": [
      "   inflation_adjusted_gross  IMDb  rotten     race\n",
      "0              5.228953e+09   7.6    98.0    white\n",
      "1              2.188229e+09   7.4   100.0    white\n",
      "2              2.187091e+09   7.8    94.0      NaN\n",
      "3              1.236036e+09   7.3    93.0  animals\n",
      "4              3.100946e+08   6.8    83.0    white\n"
     ]
    }
   ],
   "source": [
    "df4 = pd.read_csv(r\"/Users/maguina/Downloads/SML310/FinalProject/tomato.race.csv\")\n",
    "df4 = df4[df4.columns[1:7]]\n",
    "del df4['release_date']\n",
    "del df4['Year']\n",
    "\n",
    "print(df4.head())"
   ]
  },
  {
   "cell_type": "code",
   "execution_count": 43,
   "metadata": {},
   "outputs": [
    {
     "name": "stdout",
     "output_type": "stream",
     "text": [
      "   inflation_adjusted_gross  IMDb  rotten     race\n",
      "0              5.228953e+09   7.6    98.0    white\n",
      "1              2.188229e+09   7.4   100.0    white\n",
      "3              1.236036e+09   7.3    93.0  animals\n",
      "4              3.100946e+08   6.8    83.0    white\n",
      "5              1.248412e+08   6.3    36.0    white\n",
      "(132, 2)\n",
      "(34, 2)\n",
      "(132,)\n",
      "(34,)\n"
     ]
    }
   ],
   "source": [
    "## Making a df for second df\n",
    "df4 = pd.DataFrame(df4)\n",
    "df4.dropna(inplace=True)\n",
    "print(df4.head())\n",
    "\n",
    "## Adding mixed to POC\n",
    "df4['race'].replace({\"mixed\": \"POC\"}, inplace = True)\n",
    "\n",
    "## predicting race with total streams\n",
    "\n",
    "## Test/traing/split\n",
    "X4 = df4[df4.columns.tolist()[1:-1]]\n",
    "y4 = df4['race']\n",
    "\n",
    "X4_train, X4_test, y4_train, y4_test = train_test_split(X4, y4, random_state=0, test_size = 0.2)\n",
    "\n",
    "# Checking split\n",
    "print(X4_train.shape)\n",
    "print(X4_test.shape)\n",
    "print(y4_train.shape)\n",
    "print(y4_test.shape)"
   ]
  },
  {
   "cell_type": "code",
   "execution_count": 44,
   "metadata": {},
   "outputs": [
    {
     "name": "stdout",
     "output_type": "stream",
     "text": [
      "             IMDb      rotten\n",
      "count  132.000000  132.000000\n",
      "mean     6.529545   62.651515\n",
      "std      1.009931   25.946211\n",
      "min      3.000000    6.000000\n",
      "25%      5.975000   42.000000\n",
      "50%      6.600000   66.000000\n",
      "75%      7.300000   86.000000\n",
      "max      8.500000  100.000000\n",
      "           IMDb   rotten\n",
      "IMDb    1.00000  0.83315\n",
      "rotten  0.83315  1.00000\n"
     ]
    },
    {
     "data": {
      "image/png": "[encoded data removed]",
      "text/plain": [
       "<Figure size 432x288 with 2 Axes>"
      ]
     },
     "metadata": {
      "needs_background": "light"
     },
     "output_type": "display_data"
    },
    {
     "name": "stdout",
     "output_type": "stream",
     "text": [
      "     IMDb  rotten     race\n",
      "114   5.5    32.0  animals\n",
      "25    6.3    50.0  animals\n",
      "164   7.3    67.0      POC\n",
      "165   7.8    89.0    white\n",
      "20    6.4    55.0    white\n",
      "..    ...     ...      ...\n",
      "10    7.1    65.0    white\n",
      "109   5.8    26.0    white\n",
      "72    7.6    86.0      POC\n",
      "126   8.0    96.0    white\n",
      "50    5.3     9.0    white\n",
      "\n",
      "[132 rows x 3 columns]\n"
     ]
    },
    {
     "data": {
      "image/png": "[encoded data removed]",
      "text/plain": [
       "<Figure size 432x288 with 1 Axes>"
      ]
     },
     "metadata": {
      "needs_background": "light"
     },
     "output_type": "display_data"
    },
    {
     "name": "stdout",
     "output_type": "stream",
     "text": [
      "Decision Tree Accuracy: 0.6470588235294118\n"
     ]
    }
   ],
   "source": [
    "## b) Performing an exploratory data analysis \n",
    "\n",
    "## Making a trainig set one dataset:\n",
    "\n",
    "X4s_train = pd.DataFrame(X4_train)\n",
    "y4s_train = pd.DataFrame(y4_train)\n",
    "\n",
    "training4 = pd.concat([X4s_train,y4s_train], axis = 1)\n",
    "\n",
    "print(training4.describe())\n",
    "\n",
    "\n",
    "## Seeing relataionships between predictors --> some are very similar!!\n",
    "\n",
    "corr4 = training4.corr()\n",
    "print(corr4)\n",
    "\n",
    "training4.hist()\n",
    "plt.show()\n",
    "print(training4)\n",
    "\n",
    "## Using decision tree on training set\n",
    "\n",
    "clf4 = DecisionTreeClassifier(max_leaf_nodes = 3, random_state=0)\n",
    "clf4.fit(X4_train, y4_train)\n",
    "\n",
    "tree.plot_tree(clf4)\n",
    "plt.show()\n",
    "\n",
    "## Prediciting which are benign and which are malignant for X_test\n",
    "y_tree_pred4 = clf4.predict(X4_test)\n",
    "\n",
    "## Accuracy?\n",
    "print( 'Decision Tree Accuracy: {}'.format(np.sum(y_tree_pred4 ==y4_test)/len(y4_test)) )  \n",
    "\n",
    "\n",
    "\n",
    "\n"
   ]
  },
  {
   "cell_type": "code",
   "execution_count": 45,
   "metadata": {},
   "outputs": [
    {
     "name": "stdout",
     "output_type": "stream",
     "text": [
      "Random Forest Accuracy: 0.5588235294117647\n"
     ]
    }
   ],
   "source": [
    "## Accuracy\n",
    "\n",
    "for model, name in zip(model1, name1):\n",
    "    model.fit(X4_train, y4_train)\n",
    "    pred = model.predict(X4_test)\n",
    "    print(name + ' Accuracy: {}'.format(np.sum(pred==y4_test)/len(y4_test)) )"
   ]
  },
  {
   "cell_type": "markdown",
   "metadata": {},
   "source": [
    "## Trying other types of classifications"
   ]
  },
  {
   "cell_type": "code",
   "execution_count": 55,
   "metadata": {},
   "outputs": [
    {
     "name": "stdout",
     "output_type": "stream",
     "text": [
      "   sum_songs  total_streams   Followers  Combo\n",
      "0      132.0    275432430.0   4943181.0    POC\n",
      "1        9.0     15699807.0    162763.0  white\n",
      "2       21.0     32224508.0  17965158.0  white\n",
      "3        1.0      1569970.0    684444.0  white\n",
      "4       14.0     48612648.0    225919.0  white\n"
     ]
    }
   ],
   "source": [
    "## Making a df for second df \n",
    "df2c_1 = df2b\n",
    "print(df2c_1.head())"
   ]
  },
  {
   "cell_type": "code",
   "execution_count": 58,
   "metadata": {
    "scrolled": true
   },
   "outputs": [
    {
     "name": "stdout",
     "output_type": "stream",
     "text": [
      "   sum_songs  total_streams   Followers  Race\n",
      "0      132.0    275432430.0   4943181.0     1\n",
      "1        9.0     15699807.0    162763.0     0\n",
      "2       21.0     32224508.0  17965158.0     0\n",
      "3        1.0      1569970.0    684444.0     0\n",
      "4       14.0     48612648.0    225919.0     0\n"
     ]
    }
   ],
   "source": [
    "## Making race binary\n",
    "\n",
    "## Getting binary numbers\n",
    "df2c_2 = pd.get_dummies(df2c_1['Combo'])\n",
    "\n",
    "## Binary Data is Concatenated into Dataframe\n",
    "df2c_3 = pd.concat((df2c_1, df2c_2), axis=1)\n",
    "  \n",
    "## column is droped\n",
    "df2c_3 = df2c_3.drop([\"Combo\"], axis=1)\n",
    "  \n",
    "## Drop white column here so now white = 0, POC = 1\n",
    "df2c_3 = df2c_3.drop([\"white\"], axis=1)\n",
    "  \n",
    "## Rename column\n",
    "df_pp = df2c_3.rename(columns={\"POC\": \"Race\"})\n",
    "\n",
    "print(df_pp.head())"
   ]
  },
  {
   "cell_type": "code",
   "execution_count": null,
   "metadata": {},
   "outputs": [],
   "source": [
    "## predicting race with total streams\n",
    "\n",
    "## Test/traing/split\n",
    "X_pp = df_pp[df_pp.columns.tolist()[0:-1]]\n",
    "y_pp = df_pp['Race']\n",
    "\n",
    "X_pp_train, X_pp_test, y_pp_train, y_pp_test = train_test_split(X_pp, y_pp, random_state=0, test_size = 0.2)\n",
    "\n",
    "# Checking split\n",
    "print(X_pp_train.shape)\n",
    "print(X_pp_test.shape)\n",
    "print(y_pp_train.shape)\n",
    "print(y_pp_test.shape)"
   ]
  },
  {
   "cell_type": "code",
   "execution_count": 84,
   "metadata": {},
   "outputs": [],
   "source": [
    "## Pre-processing\n",
    "from sklearn import preprocessing\n",
    "\n",
    "scaler = preprocessing.StandardScaler().fit(X_pp_train)\n",
    "X_scaled = scaler.transform(X_pp_train)"
   ]
  },
  {
   "cell_type": "code",
   "execution_count": 95,
   "metadata": {},
   "outputs": [
    {
     "data": {
      "text/plain": [
       "0.64"
      ]
     },
     "execution_count": 95,
     "metadata": {},
     "output_type": "execute_result"
    }
   ],
   "source": [
    "## Using pipeline\n",
    "from sklearn.pipeline import make_pipeline\n",
    "from sklearn.preprocessing import StandardScaler\n",
    "\n",
    "\n",
    "pipe = make_pipeline(StandardScaler(), GaussianNB())\n",
    "pipe.fit(X_pp_train,y_pp_train)\n",
    "pipe.score(X_pp_test, y_pp_test)\n"
   ]
  },
  {
   "cell_type": "code",
   "execution_count": 61,
   "metadata": {},
   "outputs": [
    {
     "data": {
      "image/png": "[encoded data removed]",
      "text/plain": [
       "<Figure size 432x288 with 1 Axes>"
      ]
     },
     "metadata": {
      "needs_background": "light"
     },
     "output_type": "display_data"
    },
    {
     "name": "stdout",
     "output_type": "stream",
     "text": [
      "Decision Tree Accuracy: 0.68\n"
     ]
    }
   ],
   "source": [
    "## Decision Tree\n",
    "\n",
    "## Using decision tree on training set\n",
    "\n",
    "clf_pp = DecisionTreeClassifier(max_leaf_nodes = 3, random_state=0)\n",
    "clf_pp.fit(X_pp_train, y_pp_train)\n",
    "\n",
    "tree.plot_tree(clf_pp)\n",
    "plt.show()\n",
    "\n",
    "## Prediciting which are benign and which are malignant for X_test\n",
    "y_tree_pred_pp = clf_pp.predict(X_pp_test)\n",
    "\n",
    "## Accuracy?\n",
    "print( 'Decision Tree Accuracy: {}'.format(np.sum(y_tree_pred_pp ==y_pp_test)/len(y_pp_test)) )  \n",
    "\n"
   ]
  },
  {
   "cell_type": "code",
   "execution_count": 104,
   "metadata": {},
   "outputs": [
    {
     "name": "stdout",
     "output_type": "stream",
     "text": [
      "Logistic Regression 0.68\n",
      "Naive Bayes 0.64\n",
      "k-Neighbors 0.72\n",
      "Support Vector Machine 0.68\n"
     ]
    }
   ],
   "source": [
    "from sklearn.linear_model import LogisticRegression\n",
    "from sklearn.naive_bayes import GaussianNB\n",
    "from sklearn.neighbors import KNeighborsClassifier\n",
    "from sklearn.svm import LinearSVC\n",
    "\n",
    "## Using pipeline\n",
    "from sklearn.pipeline import make_pipeline\n",
    "from sklearn.preprocessing import StandardScaler\n",
    "\n",
    "lgr = LogisticRegression()\n",
    "nb = GaussianNB()\n",
    "knn = KNeighborsClassifier()\n",
    "svm = LinearSVC()\n",
    "\n",
    "models = [lgr, nb, knn, svm, rf]\n",
    "names = ['Logistic Regression', 'Naive Bayes', 'k-Neighbors', 'Support Vector Machine']\n",
    "\n",
    "from warnings import simplefilter\n",
    "from sklearn.exceptions import ConvergenceWarning\n",
    "simplefilter(\"ignore\", category=ConvergenceWarning)\n",
    "\n",
    "for model, name in zip(models, names):\n",
    "    pipe = make_pipeline(StandardScaler(), model)\n",
    "    pipe.fit(X_pp_train, y_pp_train)\n",
    "    pred = pipe.score(X_pp_test, y_pp_test)\n",
    "    print(name, pred)\n",
    " "
   ]
  }
 ],
 "metadata": {
  "kernelspec": {
   "display_name": "Python 3",
   "language": "python",
   "name": "python3"
  },
  "language_info": {
   "codemirror_mode": {
    "name": "ipython",
    "version": 3
   },
   "file_extension": ".py",
   "mimetype": "text/x-python",
   "name": "python",
   "nbconvert_exporter": "python",
   "pygments_lexer": "ipython3",
   "version": "3.8.5"
  }
 },
 "nbformat": 4,
 "nbformat_minor": 4
}
